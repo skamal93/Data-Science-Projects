{
 "cells": [
  {
   "cell_type": "code",
   "execution_count": 1,
   "metadata": {},
   "outputs": [
    {
     "name": "stdout",
     "output_type": "stream",
     "text": [
      "Note: you may need to restart the kernel to use updated packages.\n"
     ]
    },
    {
     "name": "stderr",
     "output_type": "stream",
     "text": [
      "'C:\\Users\\skama\\anaconda3\\Anaconda' is not recognized as an internal or external command,\n",
      "operable program or batch file.\n"
     ]
    }
   ],
   "source": [
    "pip install dash==1.18.1"
   ]
  },
  {
   "cell_type": "code",
   "execution_count": 2,
   "metadata": {},
   "outputs": [],
   "source": [
    "import numpy as np\n",
    "mylist=[1,2,3,4,5]\n",
    "array=np.array(mylist)"
   ]
  },
  {
   "cell_type": "code",
   "execution_count": 3,
   "metadata": {},
   "outputs": [
    {
     "data": {
      "text/plain": [
       "numpy.ndarray"
      ]
     },
     "execution_count": 3,
     "metadata": {},
     "output_type": "execute_result"
    }
   ],
   "source": [
    "type(array)"
   ]
  },
  {
   "cell_type": "code",
   "execution_count": 4,
   "metadata": {},
   "outputs": [],
   "source": [
    "a=np.arange(0,10,2)"
   ]
  },
  {
   "cell_type": "code",
   "execution_count": 5,
   "metadata": {},
   "outputs": [
    {
     "data": {
      "text/plain": [
       "array([0, 2, 4, 6, 8])"
      ]
     },
     "execution_count": 5,
     "metadata": {},
     "output_type": "execute_result"
    }
   ],
   "source": [
    "a"
   ]
  },
  {
   "cell_type": "code",
   "execution_count": 6,
   "metadata": {},
   "outputs": [
    {
     "data": {
      "text/plain": [
       "array([[0., 0., 0., 0., 0.],\n",
       "       [0., 0., 0., 0., 0.],\n",
       "       [0., 0., 0., 0., 0.],\n",
       "       [0., 0., 0., 0., 0.],\n",
       "       [0., 0., 0., 0., 0.]])"
      ]
     },
     "execution_count": 6,
     "metadata": {},
     "output_type": "execute_result"
    }
   ],
   "source": [
    "np.zeros((5,5))"
   ]
  },
  {
   "cell_type": "code",
   "execution_count": 7,
   "metadata": {},
   "outputs": [],
   "source": [
    "array2=np.random.randint(0,100,(5,5))"
   ]
  },
  {
   "cell_type": "code",
   "execution_count": 8,
   "metadata": {},
   "outputs": [
    {
     "data": {
      "text/plain": [
       "array([[51, 73, 81, 99, 60],\n",
       "       [75, 76, 59, 69, 79],\n",
       "       [96, 30, 99, 95, 97],\n",
       "       [71,  7, 39, 68,  5],\n",
       "       [ 2, 44, 59, 14,  8]])"
      ]
     },
     "execution_count": 8,
     "metadata": {},
     "output_type": "execute_result"
    }
   ],
   "source": [
    "array2"
   ]
  },
  {
   "cell_type": "code",
   "execution_count": 9,
   "metadata": {},
   "outputs": [
    {
     "data": {
      "text/plain": [
       "array([ 0.        ,  3.33333333,  6.66666667, 10.        ])"
      ]
     },
     "execution_count": 9,
     "metadata": {},
     "output_type": "execute_result"
    }
   ],
   "source": [
    "np.linspace(0,10,4)"
   ]
  },
  {
   "cell_type": "code",
   "execution_count": 10,
   "metadata": {},
   "outputs": [],
   "source": [
    "np.random.seed(101)"
   ]
  },
  {
   "cell_type": "code",
   "execution_count": 11,
   "metadata": {},
   "outputs": [
    {
     "data": {
      "text/plain": [
       "array([95, 11, 81, 70, 63, 87, 75,  9, 77, 40])"
      ]
     },
     "execution_count": 11,
     "metadata": {},
     "output_type": "execute_result"
    }
   ],
   "source": [
    "np.random.randint(0,100,10)"
   ]
  },
  {
   "cell_type": "code",
   "execution_count": 12,
   "metadata": {},
   "outputs": [
    {
     "data": {
      "text/plain": [
       "99"
      ]
     },
     "execution_count": 12,
     "metadata": {},
     "output_type": "execute_result"
    }
   ],
   "source": [
    "array2.max()"
   ]
  },
  {
   "cell_type": "code",
   "execution_count": 13,
   "metadata": {},
   "outputs": [
    {
     "data": {
      "text/plain": [
       "4"
      ]
     },
     "execution_count": 13,
     "metadata": {},
     "output_type": "execute_result"
    }
   ],
   "source": [
    "array.argmax()"
   ]
  },
  {
   "cell_type": "code",
   "execution_count": 14,
   "metadata": {},
   "outputs": [
    {
     "name": "stdout",
     "output_type": "stream",
     "text": [
      "Note: you may need to restart the kernel to use updated packages.\n"
     ]
    },
    {
     "name": "stderr",
     "output_type": "stream",
     "text": [
      "'C:\\Users\\skama\\anaconda3\\Anaconda' is not recognized as an internal or external command,\n",
      "operable program or batch file.\n"
     ]
    }
   ],
   "source": [
    "pip install plotly"
   ]
  },
  {
   "cell_type": "code",
   "execution_count": 15,
   "metadata": {},
   "outputs": [],
   "source": [
    "import plotly.offline as pyo\n",
    "import plotly.graph_objs as go"
   ]
  },
  {
   "cell_type": "code",
   "execution_count": 16,
   "metadata": {},
   "outputs": [],
   "source": [
    "np.random.seed(42)"
   ]
  },
  {
   "cell_type": "code",
   "execution_count": 17,
   "metadata": {},
   "outputs": [
    {
     "data": {
      "text/plain": [
       "'temp-plot.html'"
      ]
     },
     "execution_count": 17,
     "metadata": {},
     "output_type": "execute_result"
    }
   ],
   "source": [
    "random_x=np.random.randint(1,101,100)\n",
    "random_y=np.random.randint(1,101,100)\n",
    "data=[go.Scatter(x=random_x,y=random_y,mode=\"markers\",marker=dict(size=12,color=\"rgb(51,123,153)\",symbol=\"pentagon\",line={\"width\":2}))]\n",
    "layout=go.Layout(title=\"Scatter Plot\",xaxis={\"title\":\"X-Axis\"},yaxis=dict(title=\"Y-Axis\"),hovermode=\"closest\")\n",
    "figure=go.Figure(data=data,layout=layout)\n",
    "\n",
    "\n",
    "pyo.plot(figure)"
   ]
  },
  {
   "cell_type": "code",
   "execution_count": 18,
   "metadata": {},
   "outputs": [],
   "source": [
    "np.random.seed(56)"
   ]
  },
  {
   "cell_type": "code",
   "execution_count": 19,
   "metadata": {},
   "outputs": [
    {
     "data": {
      "text/plain": [
       "'temp-plot.html'"
      ]
     },
     "execution_count": 19,
     "metadata": {},
     "output_type": "execute_result"
    }
   ],
   "source": [
    "random_x=np.linspace(0,1,100)\n",
    "random_y=np.random.randn(100)\n",
    "trace0=go.Scatter(x=random_x,y=random_y+5,mode=\"markers\",name=\"markers\")\n",
    "trace1=go.Scatter(x=random_x,y=random_y,mode=\"lines\",name=\"mylines\")\n",
    "trace2=go.Scatter(x=random_x,y=random_y,mode=\"lines+markers\",name=\"mylines\")\n",
    "data=[trace0,trace1,trace2]\n",
    "layout=go.Layout(title=\"LineChart\")\n",
    "figure=go.Figure(data=data,layout=layout)\n",
    "\n",
    "\n",
    "pyo.plot(figure)"
   ]
  },
  {
   "cell_type": "code",
   "execution_count": 20,
   "metadata": {},
   "outputs": [],
   "source": [
    "import pandas as pd\n",
    "df=pd.read_csv(\"nst-est2017-alldata.csv\")"
   ]
  },
  {
   "cell_type": "code",
   "execution_count": 21,
   "metadata": {},
   "outputs": [],
   "source": [
    "df1=df[df[\"DIVISION\"]==\"1\"]\n",
    "df1.set_index(\"NAME\",inplace=True)"
   ]
  },
  {
   "cell_type": "code",
   "execution_count": 22,
   "metadata": {},
   "outputs": [],
   "source": [
    "cols=[col for col in df1.columns if col.startswith(\"POP\")]\n",
    "df1=df1[cols]"
   ]
  },
  {
   "cell_type": "code",
   "execution_count": 23,
   "metadata": {},
   "outputs": [
    {
     "data": {
      "text/html": [
       "<div>\n",
       "<style scoped>\n",
       "    .dataframe tbody tr th:only-of-type {\n",
       "        vertical-align: middle;\n",
       "    }\n",
       "\n",
       "    .dataframe tbody tr th {\n",
       "        vertical-align: top;\n",
       "    }\n",
       "\n",
       "    .dataframe thead th {\n",
       "        text-align: right;\n",
       "    }\n",
       "</style>\n",
       "<table border=\"1\" class=\"dataframe\">\n",
       "  <thead>\n",
       "    <tr style=\"text-align: right;\">\n",
       "      <th></th>\n",
       "      <th>POPESTIMATE2010</th>\n",
       "      <th>POPESTIMATE2011</th>\n",
       "      <th>POPESTIMATE2012</th>\n",
       "      <th>POPESTIMATE2013</th>\n",
       "      <th>POPESTIMATE2014</th>\n",
       "      <th>POPESTIMATE2015</th>\n",
       "      <th>POPESTIMATE2016</th>\n",
       "      <th>POPESTIMATE2017</th>\n",
       "    </tr>\n",
       "    <tr>\n",
       "      <th>NAME</th>\n",
       "      <th></th>\n",
       "      <th></th>\n",
       "      <th></th>\n",
       "      <th></th>\n",
       "      <th></th>\n",
       "      <th></th>\n",
       "      <th></th>\n",
       "      <th></th>\n",
       "    </tr>\n",
       "  </thead>\n",
       "  <tbody>\n",
       "    <tr>\n",
       "      <th>Connecticut</th>\n",
       "      <td>3580171.0</td>\n",
       "      <td>3591927.0</td>\n",
       "      <td>3597705.0</td>\n",
       "      <td>3602470.0</td>\n",
       "      <td>3600188.0</td>\n",
       "      <td>3593862.0</td>\n",
       "      <td>3587685.0</td>\n",
       "      <td>3588184.0</td>\n",
       "    </tr>\n",
       "    <tr>\n",
       "      <th>Maine</th>\n",
       "      <td>1327568.0</td>\n",
       "      <td>1327968.0</td>\n",
       "      <td>1328101.0</td>\n",
       "      <td>1327975.0</td>\n",
       "      <td>1328903.0</td>\n",
       "      <td>1327787.0</td>\n",
       "      <td>1330232.0</td>\n",
       "      <td>1335907.0</td>\n",
       "    </tr>\n",
       "    <tr>\n",
       "      <th>Massachusetts</th>\n",
       "      <td>6564943.0</td>\n",
       "      <td>6612178.0</td>\n",
       "      <td>6659627.0</td>\n",
       "      <td>6711138.0</td>\n",
       "      <td>6757925.0</td>\n",
       "      <td>6794002.0</td>\n",
       "      <td>6823721.0</td>\n",
       "      <td>6859819.0</td>\n",
       "    </tr>\n",
       "    <tr>\n",
       "      <th>New Hampshire</th>\n",
       "      <td>1316700.0</td>\n",
       "      <td>1318345.0</td>\n",
       "      <td>1320923.0</td>\n",
       "      <td>1322622.0</td>\n",
       "      <td>1328684.0</td>\n",
       "      <td>1330134.0</td>\n",
       "      <td>1335015.0</td>\n",
       "      <td>1342795.0</td>\n",
       "    </tr>\n",
       "    <tr>\n",
       "      <th>Rhode Island</th>\n",
       "      <td>1053169.0</td>\n",
       "      <td>1052154.0</td>\n",
       "      <td>1052761.0</td>\n",
       "      <td>1052784.0</td>\n",
       "      <td>1054782.0</td>\n",
       "      <td>1055916.0</td>\n",
       "      <td>1057566.0</td>\n",
       "      <td>1059639.0</td>\n",
       "    </tr>\n",
       "  </tbody>\n",
       "</table>\n",
       "</div>"
      ],
      "text/plain": [
       "               POPESTIMATE2010  POPESTIMATE2011  POPESTIMATE2012  \\\n",
       "NAME                                                               \n",
       "Connecticut          3580171.0        3591927.0        3597705.0   \n",
       "Maine                1327568.0        1327968.0        1328101.0   \n",
       "Massachusetts        6564943.0        6612178.0        6659627.0   \n",
       "New Hampshire        1316700.0        1318345.0        1320923.0   \n",
       "Rhode Island         1053169.0        1052154.0        1052761.0   \n",
       "\n",
       "               POPESTIMATE2013  POPESTIMATE2014  POPESTIMATE2015  \\\n",
       "NAME                                                               \n",
       "Connecticut          3602470.0        3600188.0        3593862.0   \n",
       "Maine                1327975.0        1328903.0        1327787.0   \n",
       "Massachusetts        6711138.0        6757925.0        6794002.0   \n",
       "New Hampshire        1322622.0        1328684.0        1330134.0   \n",
       "Rhode Island         1052784.0        1054782.0        1055916.0   \n",
       "\n",
       "               POPESTIMATE2016  POPESTIMATE2017  \n",
       "NAME                                             \n",
       "Connecticut          3587685.0        3588184.0  \n",
       "Maine                1330232.0        1335907.0  \n",
       "Massachusetts        6823721.0        6859819.0  \n",
       "New Hampshire        1335015.0        1342795.0  \n",
       "Rhode Island         1057566.0        1059639.0  "
      ]
     },
     "execution_count": 23,
     "metadata": {},
     "output_type": "execute_result"
    }
   ],
   "source": [
    "df1.head()"
   ]
  },
  {
   "cell_type": "code",
   "execution_count": 25,
   "metadata": {},
   "outputs": [
    {
     "data": {
      "text/plain": [
       "'temp-plot.html'"
      ]
     },
     "execution_count": 25,
     "metadata": {},
     "output_type": "execute_result"
    }
   ],
   "source": [
    "data=[go.Scatter(x=df1.columns,y=df1.loc[name],mode=\"lines\",name=name) for name in df1.index]\n",
    "pyo.plot(data)"
   ]
  },
  {
   "cell_type": "code",
   "execution_count": 26,
   "metadata": {},
   "outputs": [],
   "source": [
    "yuma=pd.read_csv(\"2010YumaAZ.csv\")"
   ]
  },
  {
   "cell_type": "code",
   "execution_count": 27,
   "metadata": {},
   "outputs": [
    {
     "data": {
      "text/html": [
       "<div>\n",
       "<style scoped>\n",
       "    .dataframe tbody tr th:only-of-type {\n",
       "        vertical-align: middle;\n",
       "    }\n",
       "\n",
       "    .dataframe tbody tr th {\n",
       "        vertical-align: top;\n",
       "    }\n",
       "\n",
       "    .dataframe thead th {\n",
       "        text-align: right;\n",
       "    }\n",
       "</style>\n",
       "<table border=\"1\" class=\"dataframe\">\n",
       "  <thead>\n",
       "    <tr style=\"text-align: right;\">\n",
       "      <th></th>\n",
       "      <th>LST_DATE</th>\n",
       "      <th>DAY</th>\n",
       "      <th>LST_TIME</th>\n",
       "      <th>T_HR_AVG</th>\n",
       "    </tr>\n",
       "  </thead>\n",
       "  <tbody>\n",
       "    <tr>\n",
       "      <th>0</th>\n",
       "      <td>20100601</td>\n",
       "      <td>TUESDAY</td>\n",
       "      <td>0:00</td>\n",
       "      <td>25.2</td>\n",
       "    </tr>\n",
       "    <tr>\n",
       "      <th>1</th>\n",
       "      <td>20100601</td>\n",
       "      <td>TUESDAY</td>\n",
       "      <td>1:00</td>\n",
       "      <td>24.1</td>\n",
       "    </tr>\n",
       "    <tr>\n",
       "      <th>2</th>\n",
       "      <td>20100601</td>\n",
       "      <td>TUESDAY</td>\n",
       "      <td>2:00</td>\n",
       "      <td>24.4</td>\n",
       "    </tr>\n",
       "    <tr>\n",
       "      <th>3</th>\n",
       "      <td>20100601</td>\n",
       "      <td>TUESDAY</td>\n",
       "      <td>3:00</td>\n",
       "      <td>24.9</td>\n",
       "    </tr>\n",
       "    <tr>\n",
       "      <th>4</th>\n",
       "      <td>20100601</td>\n",
       "      <td>TUESDAY</td>\n",
       "      <td>4:00</td>\n",
       "      <td>22.8</td>\n",
       "    </tr>\n",
       "  </tbody>\n",
       "</table>\n",
       "</div>"
      ],
      "text/plain": [
       "   LST_DATE      DAY LST_TIME  T_HR_AVG\n",
       "0  20100601  TUESDAY     0:00      25.2\n",
       "1  20100601  TUESDAY     1:00      24.1\n",
       "2  20100601  TUESDAY     2:00      24.4\n",
       "3  20100601  TUESDAY     3:00      24.9\n",
       "4  20100601  TUESDAY     4:00      22.8"
      ]
     },
     "execution_count": 27,
     "metadata": {},
     "output_type": "execute_result"
    }
   ],
   "source": [
    "yuma.head(5)"
   ]
  },
  {
   "cell_type": "code",
   "execution_count": 32,
   "metadata": {},
   "outputs": [
    {
     "data": {
      "text/plain": [
       "array(['TUESDAY', 'WEDNESDAY', 'THURSDAY', 'FRIDAY', 'SATURDAY', 'SUNDAY',\n",
       "       'MONDAY'], dtype=object)"
      ]
     },
     "execution_count": 32,
     "metadata": {},
     "output_type": "execute_result"
    }
   ],
   "source": [
    "day=yuma[\"DAY\"].unique()\n",
    "day"
   ]
  },
  {
   "cell_type": "code",
   "execution_count": 34,
   "metadata": {},
   "outputs": [],
   "source": [
    "data=[]"
   ]
  },
  {
   "cell_type": "code",
   "execution_count": 39,
   "metadata": {},
   "outputs": [],
   "source": [
    "for x in day:\n",
    "        trace=go.Scatter(x=yuma[\"LST_TIME\"],y=yuma[yuma[\"DAY\"]==x][\"T_HR_AVG\"],mode=\"lines\",name=x)\n",
    "        data.append(trace)"
   ]
  },
  {
   "cell_type": "code",
   "execution_count": 40,
   "metadata": {},
   "outputs": [
    {
     "data": {
      "text/plain": [
       "'temp-plot.html'"
      ]
     },
     "execution_count": 40,
     "metadata": {},
     "output_type": "execute_result"
    }
   ],
   "source": [
    "layout=go.Layout(title=\"Temperature Avaerage\")\n",
    "fig=go.Figure(data=data,layout=layout)\n",
    "pyo.plot(fig)"
   ]
  },
  {
   "cell_type": "code",
   "execution_count": 41,
   "metadata": {},
   "outputs": [],
   "source": [
    "medals=pd.read_csv(\"2018WinterOlympics.csv\")"
   ]
  },
  {
   "cell_type": "code",
   "execution_count": 55,
   "metadata": {},
   "outputs": [
    {
     "data": {
      "text/plain": [
       "'temp-plot.html'"
      ]
     },
     "execution_count": 55,
     "metadata": {},
     "output_type": "execute_result"
    }
   ],
   "source": [
    "trace1=go.Bar(x=medals[\"NOC\"],y=medals[\"Gold\"],name=\"Gold\",marker={\"color\":\"#FFD700\"})\n",
    "trace2=go.Bar(x=medals[\"NOC\"],y=medals[\"Silver\"],name=\"Silver\",marker={\"color\":\"#9EA0A1\"})\n",
    "trace3=go.Bar(x=medals[\"NOC\"],y=medals[\"Bronze\"],name=\"Bronze\",marker={\"color\":\"#CD7F32\"})\n",
    "data=[trace1,trace2,trace3]\n",
    "layout=go.Layout(title=\"Bar Chart\",barmode=\"stack\")\n",
    "figure=go.Figure(data=data,layout=layout)\n",
    "pyo.plot(figure)"
   ]
  },
  {
   "cell_type": "code",
   "execution_count": 56,
   "metadata": {},
   "outputs": [],
   "source": [
    "surevy=pd.read_csv(\"mocksurvey.csv\")"
   ]
  },
  {
   "cell_type": "code",
   "execution_count": 57,
   "metadata": {},
   "outputs": [
    {
     "data": {
      "text/html": [
       "<div>\n",
       "<style scoped>\n",
       "    .dataframe tbody tr th:only-of-type {\n",
       "        vertical-align: middle;\n",
       "    }\n",
       "\n",
       "    .dataframe tbody tr th {\n",
       "        vertical-align: top;\n",
       "    }\n",
       "\n",
       "    .dataframe thead th {\n",
       "        text-align: right;\n",
       "    }\n",
       "</style>\n",
       "<table border=\"1\" class=\"dataframe\">\n",
       "  <thead>\n",
       "    <tr style=\"text-align: right;\">\n",
       "      <th></th>\n",
       "      <th>Unnamed: 0</th>\n",
       "      <th>Strongly Agree</th>\n",
       "      <th>Somewhat Agree</th>\n",
       "      <th>Neutral</th>\n",
       "      <th>Somewhat Disagree</th>\n",
       "      <th>Strongly Disagree</th>\n",
       "    </tr>\n",
       "  </thead>\n",
       "  <tbody>\n",
       "    <tr>\n",
       "      <th>0</th>\n",
       "      <td>Question 1</td>\n",
       "      <td>0.45</td>\n",
       "      <td>0.25</td>\n",
       "      <td>0.10</td>\n",
       "      <td>0.12</td>\n",
       "      <td>0.08</td>\n",
       "    </tr>\n",
       "    <tr>\n",
       "      <th>1</th>\n",
       "      <td>Question 2</td>\n",
       "      <td>0.12</td>\n",
       "      <td>0.07</td>\n",
       "      <td>0.48</td>\n",
       "      <td>0.18</td>\n",
       "      <td>0.15</td>\n",
       "    </tr>\n",
       "    <tr>\n",
       "      <th>2</th>\n",
       "      <td>Question 3</td>\n",
       "      <td>0.05</td>\n",
       "      <td>0.22</td>\n",
       "      <td>0.19</td>\n",
       "      <td>0.23</td>\n",
       "      <td>0.31</td>\n",
       "    </tr>\n",
       "  </tbody>\n",
       "</table>\n",
       "</div>"
      ],
      "text/plain": [
       "   Unnamed: 0  Strongly Agree  Somewhat Agree  Neutral  Somewhat Disagree  \\\n",
       "0  Question 1            0.45            0.25     0.10               0.12   \n",
       "1  Question 2            0.12            0.07     0.48               0.18   \n",
       "2  Question 3            0.05            0.22     0.19               0.23   \n",
       "\n",
       "   Strongly Disagree  \n",
       "0               0.08  \n",
       "1               0.15  \n",
       "2               0.31  "
      ]
     },
     "execution_count": 57,
     "metadata": {},
     "output_type": "execute_result"
    }
   ],
   "source": [
    "surevy.head(5)"
   ]
  },
  {
   "cell_type": "code",
   "execution_count": 62,
   "metadata": {},
   "outputs": [
    {
     "data": {
      "text/plain": [
       "'temp-plot.html'"
      ]
     },
     "execution_count": 62,
     "metadata": {},
     "output_type": "execute_result"
    }
   ],
   "source": [
    "trace1=[go.Bar(x=surevy.index,y=surevy[x],name=x) for x in surevy.columns ]\n",
    "layout=go.Layout(title=\"Bar Chart\",barmode=\"stack\")\n",
    "figure=go.Figure(data=trace1,layout=layout)\n",
    "pyo.plot(figure)"
   ]
  },
  {
   "cell_type": "code",
   "execution_count": 63,
   "metadata": {},
   "outputs": [],
   "source": [
    "df=pd.read_csv(\"mpg.csv\")"
   ]
  },
  {
   "cell_type": "code",
   "execution_count": 72,
   "metadata": {},
   "outputs": [
    {
     "data": {
      "text/plain": [
       "'temp-plot.html'"
      ]
     },
     "execution_count": 72,
     "metadata": {},
     "output_type": "execute_result"
    }
   ],
   "source": [
    "data=[go.Scatter(x=df[\"horsepower\"],y=df[\"mpg\"],text=df[\"name\"],mode=\"markers\",marker=dict(size=df[\"weight\"]/100,color=df[\"cylinders\"],showscale=True))]\n",
    "layout=go.Layout(title=\"Bubblechart\")\n",
    "figure=go.Figure(data=data,layout=layout)\n",
    "pyo.plot(figure)"
   ]
  },
  {
   "cell_type": "code",
   "execution_count": 73,
   "metadata": {},
   "outputs": [
    {
     "data": {
      "text/plain": [
       "'temp-plot.html'"
      ]
     },
     "execution_count": 73,
     "metadata": {},
     "output_type": "execute_result"
    }
   ],
   "source": [
    "data=[go.Scatter(x=df[\"displacement\"],y=df[\"acceleration\"],text=df[\"name\"],mode=\"markers\",marker=dict(size=df[\"weight\"]/400,color=df[\"cylinders\"],showscale=True))]\n",
    "layout=go.Layout(title=\"Bubblechart\",hovermode='closest')\n",
    "figure=go.Figure(data=data,layout=layout)\n",
    "pyo.plot(figure)"
   ]
  },
  {
   "cell_type": "code",
   "execution_count": 83,
   "metadata": {},
   "outputs": [
    {
     "data": {
      "text/plain": [
       "'temp-plot.html'"
      ]
     },
     "execution_count": 83,
     "metadata": {},
     "output_type": "execute_result"
    }
   ],
   "source": [
    "y = [1,14,14,15,16,18,18,19,19,20,20,23,24,26,27,27,28,29,33,54]\n",
    "data=[go.Box(y=y,boxpoints=\"outliers\",jitter=0.3,pointpos=2.0)]\n",
    "layout=go.Layout(title=\"Boxplot\")\n",
    "figure=go.Figure(data=data,layout=layout)\n",
    "pyo.plot(figure)"
   ]
  },
  {
   "cell_type": "code",
   "execution_count": 84,
   "metadata": {},
   "outputs": [
    {
     "data": {
      "text/plain": [
       "'temp-plot.html'"
      ]
     },
     "execution_count": 84,
     "metadata": {},
     "output_type": "execute_result"
    }
   ],
   "source": [
    "snodgrass = [.209,.205,.196,.210,.202,.207,.224,.223,.220,.201]\n",
    "twain = [.225,.262,.217,.240,.230,.229,.235,.217]\n",
    "data=[go.Box(y=snodgrass,boxpoints=\"outliers\",name=\"snodgrass\"),go.Box(y=twain,boxpoints=\"outliers\",name=\"twain\")]\n",
    "layout=go.Layout(title=\"Boxplot\")\n",
    "figure=go.Figure(data=data,layout=layout)\n",
    "pyo.plot(figure)"
   ]
  },
  {
   "cell_type": "code",
   "execution_count": 85,
   "metadata": {},
   "outputs": [],
   "source": [
    "df=pd.read_csv(\"abalone.csv\")"
   ]
  },
  {
   "cell_type": "code",
   "execution_count": 86,
   "metadata": {},
   "outputs": [
    {
     "data": {
      "text/html": [
       "<div>\n",
       "<style scoped>\n",
       "    .dataframe tbody tr th:only-of-type {\n",
       "        vertical-align: middle;\n",
       "    }\n",
       "\n",
       "    .dataframe tbody tr th {\n",
       "        vertical-align: top;\n",
       "    }\n",
       "\n",
       "    .dataframe thead th {\n",
       "        text-align: right;\n",
       "    }\n",
       "</style>\n",
       "<table border=\"1\" class=\"dataframe\">\n",
       "  <thead>\n",
       "    <tr style=\"text-align: right;\">\n",
       "      <th></th>\n",
       "      <th>sex</th>\n",
       "      <th>length</th>\n",
       "      <th>diameter</th>\n",
       "      <th>height</th>\n",
       "      <th>whole_weight</th>\n",
       "      <th>shucked_weight</th>\n",
       "      <th>viscera_weight</th>\n",
       "      <th>shell_weight</th>\n",
       "      <th>rings</th>\n",
       "    </tr>\n",
       "  </thead>\n",
       "  <tbody>\n",
       "    <tr>\n",
       "      <th>0</th>\n",
       "      <td>M</td>\n",
       "      <td>0.455</td>\n",
       "      <td>0.365</td>\n",
       "      <td>0.095</td>\n",
       "      <td>0.5140</td>\n",
       "      <td>0.2245</td>\n",
       "      <td>0.1010</td>\n",
       "      <td>0.150</td>\n",
       "      <td>15</td>\n",
       "    </tr>\n",
       "    <tr>\n",
       "      <th>1</th>\n",
       "      <td>M</td>\n",
       "      <td>0.350</td>\n",
       "      <td>0.265</td>\n",
       "      <td>0.090</td>\n",
       "      <td>0.2255</td>\n",
       "      <td>0.0995</td>\n",
       "      <td>0.0485</td>\n",
       "      <td>0.070</td>\n",
       "      <td>7</td>\n",
       "    </tr>\n",
       "    <tr>\n",
       "      <th>2</th>\n",
       "      <td>F</td>\n",
       "      <td>0.530</td>\n",
       "      <td>0.420</td>\n",
       "      <td>0.135</td>\n",
       "      <td>0.6770</td>\n",
       "      <td>0.2565</td>\n",
       "      <td>0.1415</td>\n",
       "      <td>0.210</td>\n",
       "      <td>9</td>\n",
       "    </tr>\n",
       "    <tr>\n",
       "      <th>3</th>\n",
       "      <td>M</td>\n",
       "      <td>0.440</td>\n",
       "      <td>0.365</td>\n",
       "      <td>0.125</td>\n",
       "      <td>0.5160</td>\n",
       "      <td>0.2155</td>\n",
       "      <td>0.1140</td>\n",
       "      <td>0.155</td>\n",
       "      <td>10</td>\n",
       "    </tr>\n",
       "    <tr>\n",
       "      <th>4</th>\n",
       "      <td>I</td>\n",
       "      <td>0.330</td>\n",
       "      <td>0.255</td>\n",
       "      <td>0.080</td>\n",
       "      <td>0.2050</td>\n",
       "      <td>0.0895</td>\n",
       "      <td>0.0395</td>\n",
       "      <td>0.055</td>\n",
       "      <td>7</td>\n",
       "    </tr>\n",
       "  </tbody>\n",
       "</table>\n",
       "</div>"
      ],
      "text/plain": [
       "  sex  length  diameter  height  whole_weight  shucked_weight  viscera_weight  \\\n",
       "0   M   0.455     0.365   0.095        0.5140          0.2245          0.1010   \n",
       "1   M   0.350     0.265   0.090        0.2255          0.0995          0.0485   \n",
       "2   F   0.530     0.420   0.135        0.6770          0.2565          0.1415   \n",
       "3   M   0.440     0.365   0.125        0.5160          0.2155          0.1140   \n",
       "4   I   0.330     0.255   0.080        0.2050          0.0895          0.0395   \n",
       "\n",
       "   shell_weight  rings  \n",
       "0         0.150     15  \n",
       "1         0.070      7  \n",
       "2         0.210      9  \n",
       "3         0.155     10  \n",
       "4         0.055      7  "
      ]
     },
     "execution_count": 86,
     "metadata": {},
     "output_type": "execute_result"
    }
   ],
   "source": [
    "df.head(5)"
   ]
  },
  {
   "cell_type": "code",
   "execution_count": 90,
   "metadata": {},
   "outputs": [],
   "source": [
    "x=np.random.choice(df[\"rings\"],20,replace=False)\n",
    "y=np.random.choice(df[\"rings\"],30,replace=False)"
   ]
  },
  {
   "cell_type": "code",
   "execution_count": 91,
   "metadata": {},
   "outputs": [
    {
     "data": {
      "text/plain": [
       "'temp-plot.html'"
      ]
     },
     "execution_count": 91,
     "metadata": {},
     "output_type": "execute_result"
    }
   ],
   "source": [
    "data=[go.Box(y=x,boxpoints=\"outliers\",name=\"Y\"),go.Box(y=y,boxpoints=\"outliers\",name=\"x\")]\n",
    "layout=go.Layout(title=\"Boxplot\")\n",
    "figure=go.Figure(data=data,layout=layout)\n",
    "pyo.plot(figure)"
   ]
  },
  {
   "cell_type": "code",
   "execution_count": 4,
   "metadata": {},
   "outputs": [
    {
     "name": "stdout",
     "output_type": "stream",
     "text": [
      "Collecting dash\n",
      "  Downloading https://files.pythonhosted.org/packages/dd/17/55244363969638edd1151de0ea4aa10e6a7849b42d7d0994e3082514e19d/dash-1.18.1.tar.gz (74kB)\n",
      "Requirement already satisfied: Flask>=1.0.4 in c:\\users\\skama\\anaconda3\\anaconda 3\\lib\\site-packages (from dash) (1.1.1)\n",
      "Collecting flask-compress (from dash)\n",
      "  Downloading https://files.pythonhosted.org/packages/b2/7a/9c4641f975fb9daaf945dc39da6a52fd5693ab3bbc2d53780eab3b5106f4/Flask_Compress-1.8.0-py3-none-any.whl\n",
      "Requirement already satisfied: plotly in c:\\users\\skama\\anaconda3\\anaconda 3\\lib\\site-packages (from dash) (4.14.1)\n",
      "Collecting dash_renderer==1.8.3 (from dash)\n",
      "  Downloading https://files.pythonhosted.org/packages/72/fe/59a322edb128ad15205002c7b81e3f5e580f6791c4a100183289e05dbfcb/dash_renderer-1.8.3.tar.gz (1.0MB)\n",
      "Collecting dash-core-components==1.14.1 (from dash)\n",
      "  Downloading https://files.pythonhosted.org/packages/0f/ab/5ffeeed41117383d02485f5b9204dcfaa074bfbb3ff2559afac7b904ad5c/dash_core_components-1.14.1.tar.gz (3.5MB)\n",
      "Collecting dash-html-components==1.1.1 (from dash)\n",
      "  Downloading https://files.pythonhosted.org/packages/02/ba/bb9427c62feb25bfbaf243894eeeb4e7c67a92b426ed0575a167100e436e/dash_html_components-1.1.1.tar.gz (188kB)\n",
      "Collecting dash-table==4.11.1 (from dash)\n",
      "  Downloading https://files.pythonhosted.org/packages/79/4b/de20584b7dc82dc6e572e8b596d21b1c6e39f13d19e8c9e6f1d67bed67fd/dash_table-4.11.1.tar.gz (1.8MB)\n",
      "Requirement already satisfied: future in c:\\users\\skama\\anaconda3\\anaconda 3\\lib\\site-packages (from dash) (0.17.1)\n",
      "Requirement already satisfied: itsdangerous>=0.24 in c:\\users\\skama\\anaconda3\\anaconda 3\\lib\\site-packages (from Flask>=1.0.4->dash) (1.1.0)\n",
      "Requirement already satisfied: Jinja2>=2.10.1 in c:\\users\\skama\\anaconda3\\anaconda 3\\lib\\site-packages (from Flask>=1.0.4->dash) (2.10.1)\n",
      "Requirement already satisfied: click>=5.1 in c:\\users\\skama\\anaconda3\\anaconda 3\\lib\\site-packages (from Flask>=1.0.4->dash) (7.0)\n",
      "Requirement already satisfied: Werkzeug>=0.15 in c:\\users\\skama\\anaconda3\\anaconda 3\\lib\\site-packages (from Flask>=1.0.4->dash) (0.15.4)\n",
      "Collecting brotli (from flask-compress->dash)\n",
      "  Downloading https://files.pythonhosted.org/packages/f1/cf/9cebdbbcecf9a9650cc6da672afaac5a731c9c9097a0f67031a9af9ce805/Brotli-1.0.9-cp37-cp37m-win_amd64.whl (365kB)\n",
      "Requirement already satisfied: six in c:\\users\\skama\\anaconda3\\anaconda 3\\lib\\site-packages (from plotly->dash) (1.12.0)\n",
      "Requirement already satisfied: retrying>=1.3.3 in c:\\users\\skama\\anaconda3\\anaconda 3\\lib\\site-packages (from plotly->dash) (1.3.3)\n",
      "Requirement already satisfied: MarkupSafe>=0.23 in c:\\users\\skama\\anaconda3\\anaconda 3\\lib\\site-packages (from Jinja2>=2.10.1->Flask>=1.0.4->dash) (1.1.1)\n",
      "Building wheels for collected packages: dash, dash-renderer, dash-core-components, dash-html-components, dash-table\n",
      "  Building wheel for dash (setup.py): started\n",
      "  Building wheel for dash (setup.py): still running...\n",
      "  Building wheel for dash (setup.py): finished with status 'done'\n",
      "  Stored in directory: C:\\Users\\skama\\AppData\\Local\\pip\\Cache\\wheels\\eb\\56\\fb\\79b2169ce9fcb79753ec57a16abb8f0b7750b4c63d7eb3cea9\n",
      "  Building wheel for dash-renderer (setup.py): started\n",
      "  Building wheel for dash-renderer (setup.py): finished with status 'done'\n",
      "  Stored in directory: C:\\Users\\skama\\AppData\\Local\\pip\\Cache\\wheels\\cf\\2b\\5f\\0928a6d1b7ebf280f21a2e925f36d662e6ba83e00b82c6b6bf\n",
      "  Building wheel for dash-core-components (setup.py): started\n",
      "  Building wheel for dash-core-components (setup.py): finished with status 'done'\n",
      "  Stored in directory: C:\\Users\\skama\\AppData\\Local\\pip\\Cache\\wheels\\e3\\20\\48\\9022e1f2cb2fed4d9925370d0e17cbb3ab1164f3742d9b5e5a\n",
      "  Building wheel for dash-html-components (setup.py): started\n",
      "  Building wheel for dash-html-components (setup.py): still running...\n",
      "  Building wheel for dash-html-components (setup.py): finished with status 'done'\n",
      "  Stored in directory: C:\\Users\\skama\\AppData\\Local\\pip\\Cache\\wheels\\8d\\01\\46\\78e4de185a8a4a2da8ba31da16c52170f036d4cebeeb6e07a2\n",
      "  Building wheel for dash-table (setup.py): started\n",
      "  Building wheel for dash-table (setup.py): finished with status 'done'\n",
      "  Stored in directory: C:\\Users\\skama\\AppData\\Local\\pip\\Cache\\wheels\\53\\a0\\0e\\1105943524ee7060c5c45a22e45c77777a3d8801f2fe49e445\n",
      "Successfully built dash dash-renderer dash-core-components dash-html-components dash-table\n",
      "Installing collected packages: brotli, flask-compress, dash-renderer, dash-core-components, dash-html-components, dash-table, dash\n",
      "Successfully installed brotli-1.0.9 dash-1.18.1 dash-core-components-1.14.1 dash-html-components-1.1.1 dash-renderer-1.8.3 dash-table-4.11.1 flask-compress-1.8.0\n",
      "Requirement already satisfied: dash-renderer in c:\\users\\skama\\anaconda3\\anaconda 3\\lib\\site-packages (1.8.3)\n",
      "Requirement already satisfied: dash_core_components in c:\\users\\skama\\anaconda3\\anaconda 3\\lib\\site-packages (1.14.1)\n",
      "Requirement already satisfied: dash_html_components in c:\\users\\skama\\anaconda3\\anaconda 3\\lib\\site-packages (1.1.1)\n"
     ]
    }
   ],
   "source": [
    "!pip install dash\n",
    "!pip install dash-renderer\n",
    "!pip install dash_core_components\n",
    "!pip install dash_html_components"
   ]
  },
  {
   "cell_type": "code",
   "execution_count": 6,
   "metadata": {},
   "outputs": [],
   "source": [
    "import dash\n",
    "import dash_core_components as dcc\n",
    "import dash_html_components as html"
   ]
  },
  {
   "cell_type": "code",
   "execution_count": 7,
   "metadata": {},
   "outputs": [],
   "source": [
    "app=dash.Dash()\n"
   ]
  },
  {
   "cell_type": "code",
   "execution_count": null,
   "metadata": {},
   "outputs": [
    {
     "name": "stdout",
     "output_type": "stream",
     "text": [
      "Dash is running on http://127.0.0.1:8050/\n",
      "\n",
      " * Serving Flask app \"__main__\" (lazy loading)\n",
      " * Environment: production\n",
      "   WARNING: This is a development server. Do not use it in a production deployment.\n",
      "   Use a production WSGI server instead.\n",
      " * Debug mode: off\n"
     ]
    },
    {
     "name": "stderr",
     "output_type": "stream",
     "text": [
      " * Running on http://127.0.0.1:8050/ (Press CTRL+C to quit)\n",
      "127.0.0.1 - - [07/Jan/2021 19:50:42] \"GET / HTTP/1.1\" 200 -\n",
      "127.0.0.1 - - [07/Jan/2021 19:50:42] \"GET /_dash-component-suites/dash_renderer/polyfill@7.v1_8_3m1610035684.8.7.min.js HTTP/1.1\" 200 -\n",
      "127.0.0.1 - - [07/Jan/2021 19:50:42] \"GET /_dash-component-suites/dash_renderer/react@16.v1_8_3m1610035684.14.0.min.js HTTP/1.1\" 200 -\n",
      "127.0.0.1 - - [07/Jan/2021 19:50:43] \"GET /_dash-component-suites/dash_renderer/react-dom@16.v1_8_3m1610035684.14.0.min.js HTTP/1.1\" 200 -\n",
      "127.0.0.1 - - [07/Jan/2021 19:50:43] \"GET /_dash-component-suites/dash_renderer/prop-types@15.v1_8_3m1610035684.7.2.min.js HTTP/1.1\" 200 -\n",
      "127.0.0.1 - - [07/Jan/2021 19:50:43] \"GET /_dash-component-suites/dash_html_components/dash_html_components.v1_1_1m1610035813.min.js HTTP/1.1\" 200 -\n",
      "127.0.0.1 - - [07/Jan/2021 19:50:43] \"GET /_dash-component-suites/dash_core_components/dash_core_components.v1_14_1m1610035736.min.js HTTP/1.1\" 200 -\n",
      "127.0.0.1 - - [07/Jan/2021 19:50:43] \"GET /_dash-component-suites/dash_core_components/dash_core_components-shared.v1_14_1m1610035736.js HTTP/1.1\" 200 -\n",
      "127.0.0.1 - - [07/Jan/2021 19:50:43] \"GET /_dash-component-suites/dash_renderer/dash_renderer.v1_8_3m1610035684.min.js HTTP/1.1\" 200 -\n",
      "127.0.0.1 - - [07/Jan/2021 19:50:44] \"GET /_dash-layout HTTP/1.1\" 200 -\n",
      "127.0.0.1 - - [07/Jan/2021 19:50:44] \"GET /_dash-dependencies HTTP/1.1\" 200 -\n",
      "127.0.0.1 - - [07/Jan/2021 19:50:44] \"GET /_favicon.ico?v=1.18.1 HTTP/1.1\" 200 -\n",
      "127.0.0.1 - - [07/Jan/2021 19:50:44] \"GET /_dash-component-suites/dash_core_components/async-graph.v1_14_1m1607534654.js HTTP/1.1\" 200 -\n",
      "127.0.0.1 - - [07/Jan/2021 19:50:45] \"GET /_dash-component-suites/dash_core_components/async-plotlyjs.v1_14_1m1607534654.js HTTP/1.1\" 200 -\n",
      "127.0.0.1 - - [07/Jan/2021 19:55:16] \"GET / HTTP/1.1\" 200 -\n",
      "127.0.0.1 - - [07/Jan/2021 19:55:17] \"GET /_dash-layout HTTP/1.1\" 200 -\n",
      "127.0.0.1 - - [07/Jan/2021 19:55:17] \"GET /_dash-dependencies HTTP/1.1\" 200 -\n"
     ]
    }
   ],
   "source": [
    "app.layout=html.Div(children=[html.H1(\"Hello Dash!\"),\n",
    "                              html.Div(\"Dash:Web Applications with Python\" ),\n",
    "                              dcc.Graph(id=\"example\",figure=\n",
    "                              {\"data\":[{\"x\":[1,2,3,4,5],\"y\":[1,2,3,4,5],\"type\":\"bar\",\"name\":\"SF\"},\n",
    "                              {\"x\":[1,2,3,4,5],\"y\":[1,4,6,8,5],\"type\":\"bar\",\"name\":\"SF\"}],\"layout\":{\"title\":\"Bar Plot\"}})])\n",
    "if __name__ == \"__main__\":\n",
    "    app.run_server()"
   ]
  },
  {
   "cell_type": "code",
   "execution_count": null,
   "metadata": {},
   "outputs": [],
   "source": []
  }
 ],
 "metadata": {
  "kernelspec": {
   "display_name": "Python 3",
   "language": "python",
   "name": "python3"
  },
  "language_info": {
   "codemirror_mode": {
    "name": "ipython",
    "version": 3
   },
   "file_extension": ".py",
   "mimetype": "text/x-python",
   "name": "python",
   "nbconvert_exporter": "python",
   "pygments_lexer": "ipython3",
   "version": "3.7.3"
  }
 },
 "nbformat": 4,
 "nbformat_minor": 2
}
